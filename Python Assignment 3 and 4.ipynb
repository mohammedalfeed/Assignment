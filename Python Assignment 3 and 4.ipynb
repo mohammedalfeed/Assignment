{
 "cells": [
  {
   "cell_type": "code",
   "execution_count": 1,
   "metadata": {},
   "outputs": [
    {
     "name": "stdout",
     "output_type": "stream",
     "text": [
      "2002,2009,2016,2023,2037,2044,2051,2058,2072,2079,2086,2093,2107,2114,2121,2128,2142,2149,2156,2163,2177,2184,2191,2198,2212,2219,2226,2233,2247,2254,2261,2268,2282,2289,2296,2303,2317,2324,2331,2338,2352,2359,2366,2373,2387,2394,2401,2408,2422,2429,2436,2443,2457,2464,2471,2478,2492,2499,2506,2513,2527,2534,2541,2548,2562,2569,2576,2583,2597,2604,2611,2618,2632,2639,2646,2653,2667,2674,2681,2688,2702,2709,2716,2723,2737,2744,2751,2758,2772,2779,2786,2793,2807,2814,2821,2828,2842,2849,2856,2863,2877,2884,2891,2898,2912,2919,2926,2933,2947,2954,2961,2968,2982,2989,2996,3003,3017,3024,3031,3038,3052,3059,3066,3073,3087,3094,3101,3108,3122,3129,3136,3143,3157,3164,3171,3178,3192,3199,"
     ]
    }
   ],
   "source": [
    "#1:Write a program which will find all such numbers which are divisible by 7 but are not a multiple of 5, between 2000 and 3200 (both included).The numbers obtained should be printed in a comma-separated sequence on a single line.\n",
    "for i in range(2000,3201):\n",
    "    if(i%7==0 and i%5!=0):\n",
    "        print(i,end=\",\")\n"
   ]
  },
  {
   "cell_type": "code",
   "execution_count": 4,
   "metadata": {},
   "outputs": [
    {
     "name": "stdout",
     "output_type": "stream",
     "text": [
      "enter the numbers  4,6,8,10\n",
      "24,720,40320,3628800,"
     ]
    }
   ],
   "source": [
    "#2:Write a program which can compute the factorial of a given numbers.The results should be printed in a comma-separated sequence on a single line.Suppose the following input is supplied to the program: 8 Then, the output should be:40320\n",
    "def fact(n):\n",
    "    if n==0 or n==1:\n",
    "        return 1\n",
    "    else:\n",
    "        return n*fact(n-1)\n",
    "lst1=list(map(int,input(\"enter the numbers  \").split(\",\")))\n",
    "for n in lst1:\n",
    "    print(fact(n),end=\",\")\n"
   ]
  },
  {
   "cell_type": "code",
   "execution_count": 1,
   "metadata": {},
   "outputs": [
    {
     "name": "stdout",
     "output_type": "stream",
     "text": [
      "enter the number :8\n",
      "{1: 1, 2: 4, 3: 9, 4: 16, 5: 25, 6: 36, 7: 49, 8: 64}\n"
     ]
    }
   ],
   "source": [
    "#3:With a given integral number n, write a program to generate a dictionary that contains (i, i x i) such that is an integral number between 1 and n (both included). and then the program should print the dictionary.\n",
    "dic=dict()      \n",
    "n=int(input(\"enter the number :\"))\n",
    "for i in range(1,n+1):\n",
    "    dic[i]=i*i\n",
    "print(dic)"
   ]
  },
  {
   "cell_type": "code",
   "execution_count": 2,
   "metadata": {},
   "outputs": [
    {
     "name": "stdout",
     "output_type": "stream",
     "text": [
      "34,67,55,33,12,98\n",
      "['34', '67', '55', '33', '12', '98']\n",
      "('34', '67', '55', '33', '12', '98')\n"
     ]
    }
   ],
   "source": [
    "#4:Write a program which accepts a sequence of comma-separated numbers from console and generate a list and a tuple which contains every number.Suppose the following input is supplied to the program:\n",
    "\n",
    "x=[i for i in input().split(\",\")]\n",
    "y=tuple(x)\n",
    "print(x)\n",
    "print(y)"
   ]
  },
  {
   "cell_type": "code",
   "execution_count": 3,
   "metadata": {},
   "outputs": [
    {
     "name": "stdout",
     "output_type": "stream",
     "text": [
      "Enter the string  mohammed alfeed\n",
      "MOHAMMED ALFEED\n"
     ]
    }
   ],
   "source": [
    "#5:Define a class which has at least two methods:\n",
    "#getString: to get a string from console input\n",
    "#printString: to print the string in upper case.\n",
    "#Also please include simple test function to test the class methods.\n",
    "class test():\n",
    "    def __init__(self):\n",
    "        self.string=\"\"\n",
    "        \n",
    "        \n",
    "    def getstring(self):\n",
    "        self.string=input(\"Enter the string  \")\n",
    "        \n",
    "        \n",
    "    def printstring(self):\n",
    "        return self.string.upper()\n",
    "    \n",
    "x=test()\n",
    "x.getstring()\n",
    "print(x.printstring())"
   ]
  },
  {
   "cell_type": "code",
   "execution_count": 5,
   "metadata": {},
   "outputs": [
    {
     "name": "stdout",
     "output_type": "stream",
     "text": [
      "Enter the D value100,150,180\n",
      "18,22,24,"
     ]
    }
   ],
   "source": [
    "#6:Write a program that calculates and prints the value according to the given formula:\n",
    "#Q = Square root of [(2 * C * D)/H]\n",
    "#Following are the fixed values of C and H:\n",
    "#C is 50. H is 30.\n",
    "#D is the variable whose values should be input to your program in a comma-separated sequence.\n",
    "import math\n",
    "lst=list(map(int,input(\"Enter the D value\").split(\",\")))\n",
    "for D in lst:\n",
    "    Q=math.sqrt((2*50*D)/30)\n",
    "    print(int(Q),end=\",\")  "
   ]
  },
  {
   "cell_type": "code",
   "execution_count": 6,
   "metadata": {},
   "outputs": [
    {
     "name": "stdout",
     "output_type": "stream",
     "text": [
      "enter x value3\n",
      "enter y value5\n",
      "[[0, 0, 0, 0, 0], [0, 1, 2, 3, 4], [0, 2, 4, 6, 8]]\n"
     ]
    }
   ],
   "source": [
    "#7:Write a program which takes 2 digits, X,Y as input and generates a 2-dimensional array. The element value in the i-th row and j-th column of the array should be i * j.\n",
    "#Note: i=0,1.., X-1; j=0,1,¡.Y-1. \n",
    "x=int(input(\"enter x value\"))\n",
    "y=int(input(\"enter y value\"))\n",
    "lst=[]\n",
    "for i in range(x):\n",
    "    lst2=[]\n",
    "    for j in range(y):\n",
    "        lst2.append(i*j)\n",
    "    lst.append(lst2)\n",
    "print(lst)"
   ]
  },
  {
   "cell_type": "code",
   "execution_count": 7,
   "metadata": {},
   "outputs": [
    {
     "name": "stdout",
     "output_type": "stream",
     "text": [
      "without,hello,bag,world\n",
      "bag,hello,without,world,"
     ]
    }
   ],
   "source": [
    "#8:Write a program that accepts a comma separated sequence of words as input and prints the words in a comma-separated sequence after sorting them alphabetically.\n",
    "lst=[i for i in input().split(\",\")]\n",
    "lst.sort()\n",
    "for x in lst:\n",
    "    print(x,end=\",\")"
   ]
  },
  {
   "cell_type": "code",
   "execution_count": 8,
   "metadata": {},
   "outputs": [
    {
     "name": "stdout",
     "output_type": "stream",
     "text": [
      "hello world\n",
      "practice makes perfect\n",
      "\n",
      "HELLO WORLD\n",
      "PRACTICE MAKES PERFECT\n"
     ]
    }
   ],
   "source": [
    "#9:Write a program that accepts sequence of lines as input and prints the lines after making all characters in the sentence capitalized.\n",
    "lst=[]\n",
    "while True:\n",
    "    a=input()\n",
    "    if (len(a)==0):\n",
    "        break\n",
    "    lst.append(a.upper())\n",
    "    \n",
    "for j in lst:\n",
    "    print(j)"
   ]
  },
  {
   "cell_type": "code",
   "execution_count": 9,
   "metadata": {},
   "outputs": [
    {
     "name": "stdout",
     "output_type": "stream",
     "text": [
      "hello world and practice makes perfect and hello world again\n",
      "again and hello makes perfect practice world "
     ]
    }
   ],
   "source": [
    "#10:Write a program that accepts a sequence of whitespace separated words as input and prints the words after removing all duplicate words and sorting them alphanumerically.\n",
    "x=input().split(\" \")\n",
    "x=set(x)\n",
    "x=sorted(x)\n",
    "for i in x:\n",
    "    print(i,end=\" \")"
   ]
  },
  {
   "cell_type": "code",
   "execution_count": 10,
   "metadata": {},
   "outputs": [
    {
     "name": "stdout",
     "output_type": "stream",
     "text": [
      "0011,0100,1010,1001\n",
      "1010\n"
     ]
    }
   ],
   "source": [
    "#11:Write a program which accepts a sequence of comma separated 4 digit binary numbers as its input and then check whether they are divisible by 5 or not. The numbers that are divisible by 5 are to be printed in a comma separated sequence.\n",
    "x=input().split(\",\")\n",
    "for i in x:\n",
    "   if(int(i,2)%5==0):\n",
    "       print(i)"
   ]
  },
  {
   "cell_type": "code",
   "execution_count": 1,
   "metadata": {},
   "outputs": [
    {
     "name": "stdout",
     "output_type": "stream",
     "text": [
      "2000,2002,2004,2006,2008,2020,2022,2024,2026,2028,2040,2042,2044,2046,2048,2060,2062,2064,2066,2068,2080,2082,2084,2086,2088,2200,2202,2204,2206,2208,2220,2222,2224,2226,2228,2240,2242,2244,2246,2248,2260,2262,2264,2266,2268,2280,2282,2284,2286,2288,2400,2402,2404,2406,2408,2420,2422,2424,2426,2428,2440,2442,2444,2446,2448,2460,2462,2464,2466,2468,2480,2482,2484,2486,2488,2600,2602,2604,2606,2608,2620,2622,2624,2626,2628,2640,2642,2644,2646,2648,2660,2662,2664,2666,2668,2680,2682,2684,2686,2688,2800,2802,2804,2806,2808,2820,2822,2824,2826,2828,2840,2842,2844,2846,2848,2860,2862,2864,2866,2868,2880,2882,2884,2886,2888,"
     ]
    }
   ],
   "source": [
    "#12:Write a program, which will find all such numbers between 1000 and 3000 (both included) such that each digit of the number is an even number.The numbers obtained should be printed in a comma-separated sequence on a single line.\n",
    "\n",
    "for i in range(1000,3001):\n",
    "    i=str(i)\n",
    "    if(int(i[0])%2==0 and int(i[1])%2==0 and int(i[2])%2==0 and int(i[3])%2==0):\n",
    "        print(''.join(i),end=',')"
   ]
  },
  {
   "cell_type": "code",
   "execution_count": 3,
   "metadata": {},
   "outputs": [
    {
     "name": "stdout",
     "output_type": "stream",
     "text": [
      "hello world! 123\n",
      "Digits =  3\n",
      "Letters =  10\n"
     ]
    }
   ],
   "source": [
    "#13:Write a program that accepts a sentence and calculate the number of letters and digits.\n",
    "\n",
    "n=input()\n",
    "d=0\n",
    "c=0\n",
    "for i in n:\n",
    "    if i.isdigit()==True:\n",
    "        d+=1\n",
    "    elif i.isalpha()==True:\n",
    "        c+=1\n",
    "    else:\n",
    "        continue\n",
    "        \n",
    "print(\"Digits = \",d )\n",
    "print(\"Letters = \",c)    "
   ]
  },
  {
   "cell_type": "code",
   "execution_count": 1,
   "metadata": {},
   "outputs": [
    {
     "name": "stdout",
     "output_type": "stream",
     "text": [
      "Hello world!\n",
      "UPPERCASE =  1\n",
      "lowercase =  9\n"
     ]
    }
   ],
   "source": [
    "#14:Write a program that accepts a sentence and calculate the number of upper case letters and lower case letters.\n",
    "\n",
    "n=input()\n",
    "d=0\n",
    "c=0\n",
    "for i in n:\n",
    "    if i.isupper()==True:\n",
    "        d+=1\n",
    "    elif i.islower()==True:\n",
    "        c+=1\n",
    "    else:\n",
    "        continue\n",
    "        \n",
    "print(\"UPPERCASE = \",d )\n",
    "print(\"lowercase = \",c)  "
   ]
  },
  {
   "cell_type": "code",
   "execution_count": 2,
   "metadata": {},
   "outputs": [
    {
     "name": "stdout",
     "output_type": "stream",
     "text": [
      "9\n",
      "11106\n"
     ]
    }
   ],
   "source": [
    "#15:Write a program that computes the value of a+aa+aaa+aaaa with a given digit as the value of a.\n",
    "\n",
    "a=input()\n",
    "aa=a*2\n",
    "aaa=a*3\n",
    "aaaa=a*4\n",
    "value=int(a)+int(aa)+int(aaa)+int(aaaa)\n",
    "print(value)"
   ]
  },
  {
   "cell_type": "code",
   "execution_count": 1,
   "metadata": {},
   "outputs": [
    {
     "name": "stdout",
     "output_type": "stream",
     "text": [
      "1,2,3,4,5,6,7,8,9\n",
      "1,9,25,49,81,"
     ]
    }
   ],
   "source": [
    "#16:Use a list comprehension to square each odd number in a list. The list is input by a sequence of comma-separated numbers.\n",
    "x=[i for i in input().split(\",\")]\n",
    "for j in x:\n",
    "    k=int(j)\n",
    "    if(k%2!=0):\n",
    "        s=k*k\n",
    "        print(s,end=\",\")"
   ]
  },
  {
   "cell_type": "code",
   "execution_count": 3,
   "metadata": {},
   "outputs": [
    {
     "name": "stdout",
     "output_type": "stream",
     "text": [
      "Type D for Deposit and Type W for widhrawal and B for balance\n",
      "d\n",
      "enter the amount to be deposited :\n",
      "500\n",
      "Type D for Deposit and Type W for widhrawal and B for balance\n",
      "D\n",
      "enter the amount to be deposited :\n",
      "300\n",
      "Type D for Deposit and Type W for widhrawal and B for balance\n",
      "w\n",
      "enter the amount to be widhrawed\n",
      "200\n",
      "Type D for Deposit and Type W for widhrawal and B for balance\n",
      "b\n",
      "Balance amount in the account:  600\n"
     ]
    }
   ],
   "source": [
    "#17:Write a program that computes the net amount of a bank account based a transaction log from console input.\n",
    "D=0\n",
    "w=0\n",
    "while(True):\n",
    "    print(\"Type D for Deposit and Type W for widhrawal and B for balance\")\n",
    "    res=input()\n",
    "    if(res=='D' or res=='d'):\n",
    "        print(\"enter the amount to be deposited :\")\n",
    "        D+=int(input())\n",
    "    elif(res=='W' or res=='w'):\n",
    "        print(\"enter the amount to be widhrawed\")\n",
    "        w+=int(input())\n",
    "    else:\n",
    "        x=D-w\n",
    "        print(\"Balance amount in the account: \",x)\n",
    "        break"
   ]
  },
  {
   "cell_type": "code",
   "execution_count": 1,
   "metadata": {},
   "outputs": [
    {
     "name": "stdout",
     "output_type": "stream",
     "text": [
      "alfeed123,Alfeed@567,1234@,yasi n@345,abcd,ABCD,ACbd@#$,Abcdef@#$12345\n",
      "Alfeed@567,"
     ]
    }
   ],
   "source": [
    "#18:A website requires the users to input username and password to register. Write a program to check the validity of password input by users.\n",
    "\n",
    "#Following are the criteria for checking the password:\n",
    "\n",
    "#At least 1 letter between [a-z]\n",
    "#At least 1 number between [0-9]\n",
    "#At least 1 letter between [A-Z]\n",
    "#At least 1 character from [$#@]\n",
    "#Minimum length of transaction password: 6\n",
    "#Maximum length of transaction password: 12\n",
    "#Your program should accept a sequence of comma separated passwords and will check them according to the above criteria. Passwords that match the criteria are to be printed, each separated by a comma.\n",
    "lst=['#','$','@']\n",
    "lst2=[x for x in input().split(\",\")]\n",
    "for i in lst2:\n",
    "    flag=0\n",
    "    if(len(i)>= 6 and len(i)<= 12):\n",
    "        j=str(i)\n",
    "        if not any(p.isupper() for p in j):\n",
    "            flag=1\n",
    "        elif not any(p.islower() for p in j):\n",
    "            flag=1\n",
    "        elif  not any(p.isdigit() for p in j):\n",
    "            flag=1\n",
    "        elif not any(p in lst for p in j):\n",
    "            flag=1\n",
    "        elif any (p==' ' for p in j):\n",
    "            flag=1\n",
    "        else:\n",
    "            if flag==0:\n",
    "                print(j,end=\",\")"
   ]
  },
  {
   "cell_type": "code",
   "execution_count": 1,
   "metadata": {},
   "outputs": [
    {
     "name": "stdout",
     "output_type": "stream",
     "text": [
      "tom,19,80\n",
      "john,20,19\n",
      "jony,17,91\n",
      "jony,17,93\n",
      "json,21,85\n",
      "\n",
      "[('john', '20', '19'), ('jony', '17', '91'), ('jony', '17', '93'), ('json', '21', '85'), ('tom', '19', '80')]\n"
     ]
    }
   ],
   "source": [
    "#19:You are required to write a program to sort the (name, age, score) tuples by ascending order where name is string, age and score are numbers. The tuples are input by console. The sort criteria is:\n",
    "\n",
    "#1: Sort based on name\n",
    "#2: Then sort based on age\n",
    "#3: Then sort by score\n",
    "#The priority is that name > age > score.\n",
    "from operator import itemgetter\n",
    "lst=[]\n",
    "while True:\n",
    "    x=input()\n",
    "    if(x == \"\"):\n",
    "        break\n",
    "    else:\n",
    "        lst.append(tuple(x.split(\",\")))\n",
    "lst.sort(key=itemgetter(0,1,2))\n",
    "print(lst)"
   ]
  },
  {
   "cell_type": "code",
   "execution_count": 2,
   "metadata": {},
   "outputs": [
    {
     "name": "stdout",
     "output_type": "stream",
     "text": [
      "enter the range:  70\n",
      "0,7,14,21,28,35,42,49,56,63,70,"
     ]
    }
   ],
   "source": [
    "#20:Define a class with a generator which can iterate the numbers, which are divisible by 7, between a given range 0 and n.\n",
    "\n",
    "class gen():\n",
    "    def divisible(n):\n",
    "        for i in range(0,n+1):\n",
    "            if(i%7==0):\n",
    "                print(i,end=\",\")\n",
    "        \n",
    "x=gen()\n",
    "gen.divisible(int(input(\"enter the range:  \")))"
   ]
  },
  {
   "cell_type": "code",
   "execution_count": 3,
   "metadata": {},
   "outputs": [
    {
     "name": "stdout",
     "output_type": "stream",
     "text": [
      "up 5\n",
      "down 3\n",
      "left 3\n",
      "right 2\n",
      "\n",
      "2\n"
     ]
    }
   ],
   "source": [
    "#21:A robot moves in a plane starting from the original point (0,0). The robot can move toward UP, DOWN, LEFT and RIGHT with a given steps. The trace of robot movement is shown as the following:\n",
    "\n",
    "#UP 5\n",
    "#DOWN 3\n",
    "#LEFT 3\n",
    "#RIGHT 2\n",
    "#The numbers after the direction are steps. Please write a program to compute the distance from current position after a sequence of movement and original point. If the distance is a float, then just print the nearest integer. Example: If the following tuples are given as input to the program:\n",
    "import math \n",
    "x,y=0,0\n",
    "while True:\n",
    "    a=input().split()\n",
    "    if not a:\n",
    "        break\n",
    "    if a[0]=='up':\n",
    "        x+=int(a[1])\n",
    "    if a[0]=='down':\n",
    "        x-=int(a[1])\n",
    "    if a[0]=='left':\n",
    "        y-=int(a[1])\n",
    "    if a[0]=='right':\n",
    "        y+=int(a[1])\n",
    "        \n",
    "        \n",
    "dist=round(math.sqrt(x**2+y**2))\n",
    "print(dist)"
   ]
  },
  {
   "cell_type": "code",
   "execution_count": 7,
   "metadata": {},
   "outputs": [
    {
     "name": "stdout",
     "output_type": "stream",
     "text": [
      "new to python or choosing between python 2 and python 3? read python 2 or python 3\n",
      "2 : 2\n",
      "3 : 1\n",
      "3? : 1\n",
      "and : 1\n",
      "between : 1\n",
      "choosing : 1\n",
      "new : 1\n",
      "or : 2\n",
      "python : 5\n",
      "read : 1\n",
      "to : 1\n"
     ]
    }
   ],
   "source": [
    "#22:Write a program to compute the frequency of the words from the input. The output should output after sorting the key alphanumerically.\n",
    "from collections import OrderedDict \n",
    "dic={}\n",
    "x=input().split()\n",
    "for i in x:\n",
    "    dic[i]=x.count(i)\n",
    "dic2=OrderedDict(sorted(dic.items()))\n",
    "for i,j in dic2.items():\n",
    "    print(i,\":\",j)"
   ]
  },
  {
   "cell_type": "code",
   "execution_count": 4,
   "metadata": {},
   "outputs": [
    {
     "name": "stdout",
     "output_type": "stream",
     "text": [
      "enter the range : 7\n",
      "1,4,9,16,25,36,49,"
     ]
    }
   ],
   "source": [
    "#23:Write a method which can calculate square value of number\n",
    "\n",
    "\n",
    "def square(n):\n",
    "    for i in range(1,n+1):\n",
    "        print(i**2,end=\",\")\n",
    "a=int(input(\"enter the range : \"))\n",
    "square(a)"
   ]
  },
  {
   "cell_type": "code",
   "execution_count": 5,
   "metadata": {},
   "outputs": [
    {
     "name": "stdout",
     "output_type": "stream",
     "text": [
      "square() function\n",
      " calculates square of the numbers in the given range\n",
      "        the function takes a parameter n, where n is the range .\n",
      "        this function calculates the square using ** operators\n",
      "int() function\n",
      " int([x]) -> integer\n",
      "int(x, base=10) -> integer\n",
      "\n",
      "Convert a number or string to an integer, or return 0 if no arguments\n",
      "are given.  If x is a number, return x.__int__().  For floating point\n",
      "numbers, this truncates towards zero.\n",
      "\n",
      "If x is not a number or if base is given, then x must be a string,\n",
      "bytes, or bytearray instance representing an integer literal in the\n",
      "given base.  The literal can be preceded by '+' or '-' and be surrounded\n",
      "by whitespace.  The base defaults to 10.  Valid bases are 0 and 2-36.\n",
      "Base 0 means to interpret the base from the string as an integer literal.\n",
      ">>> int('0b100', base=0)\n",
      "4\n",
      "abs() function\n",
      " Return the absolute value of the argument.\n"
     ]
    }
   ],
   "source": [
    "#24:Python has many built-in functions, and if you do not know how to use it, you can read document online or find some books. But Python has a built-in document function for every built-in functions.\n",
    "\n",
    "#Please write a program to print some Python built-in functions documents, such as abs(), int(), raw_input()\n",
    "\n",
    "#And add document for your own function\n",
    "def square(n):\n",
    "    \"\"\"calculates square of the numbers in the given range\n",
    "        the function takes a parameter n, where n is the range .\n",
    "        this function calculates the square using ** operators\"\"\"\n",
    "print(\"square() function\\n\",square.__doc__)\n",
    "\n",
    "print(\"int() function\\n\",int.__doc__)\n",
    "print(\"abs() function\\n\",abs.__doc__)"
   ]
  },
  {
   "cell_type": "code",
   "execution_count": 6,
   "metadata": {},
   "outputs": [
    {
     "name": "stdout",
     "output_type": "stream",
     "text": [
      "class parameter and instance parameter\n"
     ]
    }
   ],
   "source": [
    "#25:Define a class, which have a class parameter and have a same instance parameter.\n",
    "\n",
    "\n",
    "class clas():\n",
    "    name=\"class parameter\"\n",
    "    \n",
    "    def __init__(self,name):\n",
    "        self.name=name\n",
    "        \n",
    "par=clas(\"instance parameter\")\n",
    "print(\"%s and %s\"%(clas.name,par.name))"
   ]
  },
  {
   "cell_type": "code",
   "execution_count": 8,
   "metadata": {},
   "outputs": [
    {
     "name": "stdout",
     "output_type": "stream",
     "text": [
      "enter two values : 10 20\n",
      "30\n"
     ]
    }
   ],
   "source": [
    "#26:Define a function which can compute the sum of two numbers.\n",
    "def summ(a,b):\n",
    "    value=a+b\n",
    "    return value\n",
    "a,b=input(\"enter two values : \").split()\n",
    "a=int(a);b=int(b)\n",
    "print(summ(a,b))"
   ]
  },
  {
   "cell_type": "code",
   "execution_count": 9,
   "metadata": {},
   "outputs": [
    {
     "name": "stdout",
     "output_type": "stream",
     "text": [
      "enter a integer number27\n",
      "<class 'int'> 27\n",
      "<class 'str'> 27\n"
     ]
    }
   ],
   "source": [
    "#27:Define a function that can convert a integer into a string and print it in console.\n",
    "\n",
    "n=int(input(\"enter a integer number\"))\n",
    "a=str(n)\n",
    "print(type(n),n)\n",
    "print(type(a),a)"
   ]
  },
  {
   "cell_type": "code",
   "execution_count": 1,
   "metadata": {},
   "outputs": [
    {
     "name": "stdout",
     "output_type": "stream",
     "text": [
      "enter two number45 98\n",
      "143\n"
     ]
    }
   ],
   "source": [
    "#28:Define a function that can receive two integer numbers in string form and compute their sum and then print it in console.\n",
    "\n",
    "\n",
    "def add(a,b):\n",
    "    c=a+b\n",
    "    return c\n",
    "\n",
    "m,n=(input(\"enter two number\")).split()\n",
    "print(add(int(m),int(n)))"
   ]
  },
  {
   "cell_type": "code",
   "execution_count": 2,
   "metadata": {},
   "outputs": [
    {
     "name": "stdout",
     "output_type": "stream",
     "text": [
      "enter two strings  :Master Python\n",
      "MasterPython\n"
     ]
    }
   ],
   "source": [
    "#29:Define a function that can accept two strings as input and concatenate them and then print it in console.\n",
    "def addstr(a,b):\n",
    "    c=a+b\n",
    "    return c\n",
    "\n",
    "m,n=(input(\"enter two strings  :\")).split()\n",
    "print(addstr(m,n))\n"
   ]
  },
  {
   "cell_type": "code",
   "execution_count": 3,
   "metadata": {},
   "outputs": [
    {
     "name": "stdout",
     "output_type": "stream",
     "text": [
      "enter two strings  :code python\n",
      "string with the max length is : python\n"
     ]
    }
   ],
   "source": [
    "#30:Define a function that can accept two strings as input and print the string with maximum length in console. If two strings have the same length, then the function should print all strings line by line.\n",
    "\n",
    "def maxx(m,n):\n",
    "    if len(m)==len(n):\n",
    "        print(\"both the strings are having the same length :\\n\",m,\"\\n\",n)\n",
    "    elif len(m)>len(n):\n",
    "        print(\"string with the max length is :\",m)\n",
    "    else:\n",
    "        print(\"string with the max length is :\",n)\n",
    "\n",
    "        \n",
    "        \n",
    "a,b=input(\"enter two strings  :\").split()\n",
    "maxx(a,b)"
   ]
  },
  {
   "cell_type": "code",
   "execution_count": 4,
   "metadata": {},
   "outputs": [
    {
     "name": "stdout",
     "output_type": "stream",
     "text": [
      "enter two strings  :python python\n",
      "both the strings are having the same length :\n",
      " python \n",
      " python\n"
     ]
    }
   ],
   "source": [
    "#30:Define a function that can accept two strings as input and print the string with maximum length in console. If two strings have the same length, then the function should print all strings line by line.\n",
    "\n",
    "def maxx(m,n):\n",
    "    if len(m)==len(n):\n",
    "        print(\"both the strings are having the same length :\\n\",m,\"\\n\",n)\n",
    "    elif len(m)>len(n):\n",
    "        print(\"string with the max length is :\",m)\n",
    "    else:\n",
    "        print(\"string with the max length is :\",n)\n",
    "\n",
    "        \n",
    "        \n",
    "a,b=input(\"enter two strings  :\").split()\n",
    "maxx(a,b)"
   ]
  },
  {
   "cell_type": "code",
   "execution_count": 5,
   "metadata": {},
   "outputs": [
    {
     "name": "stdout",
     "output_type": "stream",
     "text": [
      "{1: 1, 2: 4, 3: 9, 4: 16, 5: 25, 6: 36, 7: 49, 8: 64, 9: 81, 10: 100, 11: 121, 12: 144, 13: 169, 14: 196, 15: 225, 16: 256, 17: 289, 18: 324, 19: 361, 20: 400}\n"
     ]
    }
   ],
   "source": [
    "#31:Define a function which can print a dictionary where the keys are numbers between 1 and 20 (both included) and the values are square of keys.\n",
    "\n",
    "def dic():\n",
    "    d={}\n",
    "    for i in range(1,21):\n",
    "        d[i]=i**2\n",
    "    print(d)\n",
    "\n",
    "dic()"
   ]
  },
  {
   "cell_type": "code",
   "execution_count": 6,
   "metadata": {},
   "outputs": [
    {
     "name": "stdout",
     "output_type": "stream",
     "text": [
      "dict_keys([1, 2, 3, 4, 5, 6, 7, 8, 9, 10, 11, 12, 13, 14, 15, 16, 17, 18, 19, 20])\n"
     ]
    }
   ],
   "source": [
    "#32:Define a function which can generate a dictionary where the keys are numbers between 1 and 20 (both included) and the values are square of keys. The function should just print the keys only.\n",
    "\n",
    "\n",
    "def dic():\n",
    "    d={}\n",
    "    for i in range(1,21):\n",
    "        d[i]=i**2\n",
    "    print(d.keys())\n",
    "\n",
    "dic()"
   ]
  },
  {
   "cell_type": "code",
   "execution_count": 7,
   "metadata": {},
   "outputs": [
    {
     "name": "stdout",
     "output_type": "stream",
     "text": [
      "[1, 4, 9, 16, 25, 36, 49, 64, 81, 100, 121, 144, 169, 196, 225, 256, 289, 324, 361, 400]\n"
     ]
    }
   ],
   "source": [
    "#33:Define a function which can generate and print a list where the values are square of numbers between 1 and 20 (both included).\n",
    "\n",
    "def lst():\n",
    "    l=[]\n",
    "    for i in range(1,21):\n",
    "       l.append(i**2)\n",
    "    print(l)\n",
    "    \n",
    "lst()"
   ]
  },
  {
   "cell_type": "code",
   "execution_count": 8,
   "metadata": {},
   "outputs": [
    {
     "name": "stdout",
     "output_type": "stream",
     "text": [
      "[1, 4, 9, 16, 25]\n"
     ]
    }
   ],
   "source": [
    "#34:Define a function which can generate a list where the values are square of numbers between 1 and 20 (both included). Then the function needs to print the first 5 elements in the list.\n",
    "\n",
    "\n",
    "def lst():\n",
    "    l=[]\n",
    "    for i in range(1,21):\n",
    "       l.append(i**2)\n",
    "    print(l[:5])\n",
    "    \n",
    "lst()\n"
   ]
  },
  {
   "cell_type": "code",
   "execution_count": 9,
   "metadata": {},
   "outputs": [
    {
     "name": "stdout",
     "output_type": "stream",
     "text": [
      "[256, 289, 324, 361, 400]\n",
      "None\n"
     ]
    }
   ],
   "source": [
    "#35:Define a function which can generate a list where the values are square of numbers between 1 and 20 (both included). Then the function needs to print the last 5 elements in the list.\n",
    "\n",
    "\n",
    "lst = lambda : print([i**2 for i in range(1,21)][-5:])\n",
    "print(lst())"
   ]
  },
  {
   "cell_type": "code",
   "execution_count": 10,
   "metadata": {},
   "outputs": [
    {
     "name": "stdout",
     "output_type": "stream",
     "text": [
      "[36, 49, 64, 81, 100, 121, 144, 169, 196, 225, 256, 289, 324, 361, 400]\n",
      "None\n"
     ]
    }
   ],
   "source": [
    "#36:Define a function which can generate a list where the values are square of numbers between 1 and 20 (both included). Then the function needs to print all values except the first 5 elements in the list.\n",
    "\n",
    "\n",
    "lst = lambda : print([i**2 for i in range(1,21)][5:])\n",
    "print(lst())"
   ]
  },
  {
   "cell_type": "code",
   "execution_count": 11,
   "metadata": {},
   "outputs": [
    {
     "name": "stdout",
     "output_type": "stream",
     "text": [
      "(1, 4, 9, 16, 25, 36, 49, 64, 81, 100, 121, 144, 169, 196, 225, 256, 289, 324, 361, 400)\n"
     ]
    }
   ],
   "source": [
    "#37:Define a function which can generate and print a tuple where the value are square of numbers between 1 and 20 (both included).\n",
    "\n",
    "\n",
    "def tup():\n",
    "    l=[]\n",
    "    for i in range(1,21):\n",
    "        l.append(i**2)\n",
    "    t=tuple(l)\n",
    "    print(t)\n",
    "    \n",
    "tup()"
   ]
  },
  {
   "cell_type": "code",
   "execution_count": 12,
   "metadata": {},
   "outputs": [
    {
     "name": "stdout",
     "output_type": "stream",
     "text": [
      "(1, 2, 3, 4, 5) \n",
      " (6, 7, 8, 9, 10)\n"
     ]
    }
   ],
   "source": [
    "#38:With a given tuple (1,2,3,4,5,6,7,8,9,10), write a program to print the first half values in one line and the last half values in one line.\n",
    "\n",
    "\n",
    "t=(1,2,3,4,5,6,7,8,9,10)\n",
    "print(t[:5],\"\\n\",t[5:])"
   ]
  },
  {
   "cell_type": "code",
   "execution_count": 1,
   "metadata": {},
   "outputs": [
    {
     "name": "stdout",
     "output_type": "stream",
     "text": [
      "(2, 4, 6, 8, 10)\n"
     ]
    }
   ],
   "source": [
    "#39:Write a program to generate and print another tuple whose values are even numbers in the given tuple (1,2,3,4,5,6,7,8,9,10).\n",
    "\n",
    "\n",
    "t=(1,2,3,4,5,6,7,8,9,10)\n",
    "l=[]\n",
    "for i in t:\n",
    "    if i%2==0:\n",
    "        l.append(i)\n",
    "t2=tuple(l)\n",
    "print(t2)"
   ]
  },
  {
   "cell_type": "code",
   "execution_count": 3,
   "metadata": {},
   "outputs": [
    {
     "name": "stdout",
     "output_type": "stream",
     "text": [
      "YES\n",
      "Yes\n"
     ]
    }
   ],
   "source": [
    "#40:Write a program which accepts a string as input to print \"Yes\" if the string is \"yes\" or \"YES\" or \"Yes\", otherwise print \"No\".\n",
    "\n",
    "x=input()\n",
    "if(x =='Yes' or x=='YES' or x=='yes'):\n",
    "    print(\"Yes\")\n",
    "else:\n",
    "    print(\"No\")\n",
    "    "
   ]
  },
  {
   "cell_type": "code",
   "execution_count": 4,
   "metadata": {},
   "outputs": [
    {
     "name": "stdout",
     "output_type": "stream",
     "text": [
      "[1, 4, 9, 16, 25, 36, 49, 64, 81, 100]\n"
     ]
    }
   ],
   "source": [
    "#41:Write a program which can map() to make a list whose elements are square of elements in [1,2,3,4,5,6,7,8,9,10].\n",
    "\n",
    "\n",
    "x=list(map(lambda i:i**2,(x for x in range(1,11))))\n",
    "print(x)"
   ]
  },
  {
   "cell_type": "code",
   "execution_count": 5,
   "metadata": {},
   "outputs": [
    {
     "name": "stdout",
     "output_type": "stream",
     "text": [
      "[4, 16, 36, 64, 100]\n"
     ]
    }
   ],
   "source": [
    "#42:Write a program which can map() and filter() to make a list whose elements are square of even number in [1,2,3,4,5,6,7,8,9,10].\n",
    "\n",
    "\n",
    "x=filter(lambda i:i%2==0,(x for x in range(1,11)))\n",
    "y=map(lambda i:i**2,x)\n",
    "print(list(y))\n"
   ]
  },
  {
   "cell_type": "code",
   "execution_count": 6,
   "metadata": {},
   "outputs": [
    {
     "name": "stdout",
     "output_type": "stream",
     "text": [
      "[2, 4, 6, 8, 10, 12, 14, 16, 18, 20]\n"
     ]
    }
   ],
   "source": [
    "#43:Write a program which can filter() to make a list whose elements are even number between 1 and 20 (both included).\n",
    "\n",
    "x=list(filter(lambda i:i%2==0,(x for x in range(1,21))))\n",
    "print(x)"
   ]
  },
  {
   "cell_type": "code",
   "execution_count": 7,
   "metadata": {},
   "outputs": [
    {
     "name": "stdout",
     "output_type": "stream",
     "text": [
      "[1, 4, 9, 16, 25, 36, 49, 64, 81, 100, 121, 144, 169, 196, 225, 256, 289, 324, 361, 400]\n"
     ]
    }
   ],
   "source": [
    "#44:Write a program which can map() to make a list whose elements are square of numbers between 1 and 20 (both included).\n",
    "x=list(map(lambda i:i**2,(x for x in range(1,21))))\n",
    "print(x)\n",
    "\n"
   ]
  },
  {
   "cell_type": "code",
   "execution_count": 8,
   "metadata": {},
   "outputs": [
    {
     "name": "stdout",
     "output_type": "stream",
     "text": [
      "American\n"
     ]
    }
   ],
   "source": [
    "#45:Define a class named American which has a static method called printNationality.\n",
    "\n",
    "\n",
    "class American:\n",
    "    @staticmethod\n",
    "    def printNationality():\n",
    "        print(\"American\")\n",
    "        \n",
    "American.printNationality()"
   ]
  },
  {
   "cell_type": "code",
   "execution_count": 9,
   "metadata": {},
   "outputs": [
    {
     "name": "stdout",
     "output_type": "stream",
     "text": [
      "American\n"
     ]
    }
   ],
   "source": [
    "#46:Define a class named American and its subclass NewYorker.\n",
    "\n",
    "\n",
    "class American:\n",
    "    @staticmethod\n",
    "    def printNationality():\n",
    "        print(\"American\")\n",
    "class NewYork(American):\n",
    "   pass\n",
    "\n",
    "n=NewYork()\n",
    "n.printNationality()"
   ]
  },
  {
   "cell_type": "code",
   "execution_count": 10,
   "metadata": {},
   "outputs": [
    {
     "name": "stdout",
     "output_type": "stream",
     "text": [
      "78.55\n"
     ]
    }
   ],
   "source": [
    "#47:Define a class named Circle which can be constructed by a radius. The Circle class has a method which can compute the area.\n",
    "\n",
    "\n",
    "class circle:\n",
    "    def area(r):\n",
    "        a=3.142*(r**2)\n",
    "        print(a)\n",
    "        \n",
    "c=circle\n",
    "c.area(5)"
   ]
  },
  {
   "cell_type": "code",
   "execution_count": 11,
   "metadata": {},
   "outputs": [
    {
     "name": "stdout",
     "output_type": "stream",
     "text": [
      "40\n"
     ]
    }
   ],
   "source": [
    "#48:Define a class named Rectangle which can be constructed by a length and width. The Rectangle class has a method which can compute the area.\n",
    "\n",
    "\n",
    "class rectangle:\n",
    "    def area(self,l,w):\n",
    "        a=l*w\n",
    "        print(a)\n",
    "        \n",
    "r=rectangle()\n",
    "r.area(5,8)"
   ]
  },
  {
   "cell_type": "code",
   "execution_count": 12,
   "metadata": {},
   "outputs": [
    {
     "name": "stdout",
     "output_type": "stream",
     "text": [
      "0\n",
      "16\n"
     ]
    }
   ],
   "source": [
    "#49:Define a class named Shape and its subclass Square. The Square class has an init function which takes a length as argument. Both classes have a area function which can print the area of the shape where Shape's area is 0 by default.\n",
    "\n",
    "class shape():\n",
    "    \n",
    "    def area(l=0):\n",
    "        print(l**2)\n",
    "class square(shape):\n",
    "    def __init__(self,l):\n",
    "        self.l=l\n",
    "        \n",
    "    def area(self):\n",
    "        print(self.l**2)\n",
    "x=shape\n",
    "x.area()\n",
    "ob=square(4)\n",
    "ob.area()"
   ]
  },
  {
   "cell_type": "code",
   "execution_count": 13,
   "metadata": {},
   "outputs": [
    {
     "name": "stdout",
     "output_type": "stream",
     "text": [
      "0\n"
     ]
    },
    {
     "ename": "Exception",
     "evalue": "divisible by zero Exception",
     "output_type": "error",
     "traceback": [
      "\u001b[1;31m---------------------------------------------------------------------------\u001b[0m",
      "\u001b[1;31mException\u001b[0m                                 Traceback (most recent call last)",
      "\u001b[1;32m<ipython-input-13-6ef931abeb22>\u001b[0m in \u001b[0;36m<module>\u001b[1;34m()\u001b[0m\n\u001b[0;32m      4\u001b[0m \u001b[0mb\u001b[0m\u001b[1;33m=\u001b[0m\u001b[0mint\u001b[0m\u001b[1;33m(\u001b[0m\u001b[0minput\u001b[0m\u001b[1;33m(\u001b[0m\u001b[1;33m)\u001b[0m\u001b[1;33m)\u001b[0m\u001b[1;33m\u001b[0m\u001b[0m\n\u001b[0;32m      5\u001b[0m \u001b[1;32mif\u001b[0m\u001b[1;33m(\u001b[0m\u001b[0mb\u001b[0m\u001b[1;33m==\u001b[0m\u001b[1;36m0\u001b[0m\u001b[1;33m)\u001b[0m\u001b[1;33m:\u001b[0m\u001b[1;33m\u001b[0m\u001b[0m\n\u001b[1;32m----> 6\u001b[1;33m     \u001b[1;32mraise\u001b[0m \u001b[0mException\u001b[0m\u001b[1;33m(\u001b[0m\u001b[1;34m\"divisible by zero Exception\"\u001b[0m\u001b[1;33m)\u001b[0m\u001b[1;33m\u001b[0m\u001b[0m\n\u001b[0m\u001b[0;32m      7\u001b[0m \u001b[1;32melse\u001b[0m\u001b[1;33m:\u001b[0m\u001b[1;33m\u001b[0m\u001b[0m\n\u001b[0;32m      8\u001b[0m     \u001b[0mx\u001b[0m\u001b[1;33m=\u001b[0m\u001b[0ma\u001b[0m\u001b[1;33m/\u001b[0m\u001b[0mb\u001b[0m\u001b[1;33m\u001b[0m\u001b[0m\n",
      "\u001b[1;31mException\u001b[0m: divisible by zero Exception"
     ]
    }
   ],
   "source": [
    "#50:Please raise a RuntimeError exception.\n",
    "\n",
    "a=10\n",
    "b=int(input())\n",
    "if(b==0):\n",
    "    raise Exception(\"divisible by zero Exception\")\n",
    "else:\n",
    "    x=a/b\n",
    "    print(x)\n"
   ]
  },
  {
   "cell_type": "code",
   "execution_count": 2,
   "metadata": {},
   "outputs": [
    {
     "name": "stdout",
     "output_type": "stream",
     "text": [
      "ZeroDivisionError: division by zero\n"
     ]
    }
   ],
   "source": [
    "#51:Write a function to compute 5/0 and use try/except to catch the exceptions.\n",
    "\n",
    "try:\n",
    "    x=5/0\n",
    "except:\n",
    "    print(\"ZeroDivisionError: division by zero\")"
   ]
  },
  {
   "cell_type": "code",
   "execution_count": 3,
   "metadata": {},
   "outputs": [
    {
     "ename": "Error",
     "evalue": "we have a problem,please try again later",
     "output_type": "error",
     "traceback": [
      "\u001b[1;31m---------------------------------------------------------------------------\u001b[0m",
      "\u001b[1;31mError\u001b[0m                                     Traceback (most recent call last)",
      "\u001b[1;32m<ipython-input-3-946528f3ba73>\u001b[0m in \u001b[0;36m<module>\u001b[1;34m()\u001b[0m\n\u001b[0;32m      6\u001b[0m \u001b[1;33m\u001b[0m\u001b[0m\n\u001b[0;32m      7\u001b[0m \u001b[1;33m\u001b[0m\u001b[0m\n\u001b[1;32m----> 8\u001b[1;33m \u001b[1;32mraise\u001b[0m \u001b[0mError\u001b[0m\u001b[1;33m(\u001b[0m\u001b[1;34m\"we have a problem,please try again later\"\u001b[0m\u001b[1;33m)\u001b[0m\u001b[1;33m\u001b[0m\u001b[0m\n\u001b[0m",
      "\u001b[1;31mError\u001b[0m: we have a problem,please try again later"
     ]
    }
   ],
   "source": [
    "#52:Define a custom exception class which takes a string message as attribute.\n",
    "\n",
    "\n",
    "class Error(Exception):\n",
    "    pass\n",
    "\n",
    "\n",
    "raise Error(\"we have a problem,please try again later\")"
   ]
  },
  {
   "cell_type": "code",
   "execution_count": 1,
   "metadata": {},
   "outputs": [],
   "source": [
    "#53:"
   ]
  },
  {
   "cell_type": "code",
   "execution_count": null,
   "metadata": {},
   "outputs": [],
   "source": []
  }
 ],
 "metadata": {
  "kernelspec": {
   "display_name": "Python 3",
   "language": "python",
   "name": "python3"
  },
  "language_info": {
   "codemirror_mode": {
    "name": "ipython",
    "version": 3
   },
   "file_extension": ".py",
   "mimetype": "text/x-python",
   "name": "python",
   "nbconvert_exporter": "python",
   "pygments_lexer": "ipython3",
   "version": "3.7.0"
  }
 },
 "nbformat": 4,
 "nbformat_minor": 2
}
