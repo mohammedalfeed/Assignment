{
 "cells": [
  {
   "cell_type": "code",
   "execution_count": 1,
   "metadata": {},
   "outputs": [
    {
     "name": "stdout",
     "output_type": "stream",
     "text": [
      "Enter a string :google.com\n",
      "{'g': 2, 'o': 3, 'l': 1, 'e': 1, '.': 1, 'c': 1, 'm': 1}\n"
     ]
    }
   ],
   "source": [
    "string=input(\"Enter a string :\")\n",
    "char = {}\n",
    "for i in string:\n",
    "    char[i]=string.count(i)\n",
    "print(char)"
   ]
  },
  {
   "cell_type": "code",
   "execution_count": 2,
   "metadata": {},
   "outputs": [
    {
     "name": "stdout",
     "output_type": "stream",
     "text": [
      "12\n"
     ]
    }
   ],
   "source": [
    "def maxx(lst):\n",
    "    var=[]\n",
    "    for i in lst:\n",
    "        var.append(len(i))\n",
    "    var.sort()\n",
    "    print(var[-1])\n",
    "        \n",
    "maxx(lst=[\"abcd\",\"000000efghij\",\"klmn\",\"o\",\"pqr\",\"12stuvw\"])"
   ]
  },
  {
   "cell_type": "code",
   "execution_count": 1,
   "metadata": {},
   "outputs": [
    {
     "name": "stdout",
     "output_type": "stream",
     "text": [
      "Enter a sentence  :code on python practice python and work on python\n",
      "{'code': 1, 'on': 2, 'python': 3, 'practice': 1, 'and': 1, 'work': 1}\n"
     ]
    }
   ],
   "source": [
    "sentence=input(\"Enter a sentence  :\")\n",
    "occ={}\n",
    "sentence=sentence.split()\n",
    "for i in sentence:\n",
    "    occ[i]=sentence.count(i)\n",
    "print(occ)"
   ]
  },
  {
   "cell_type": "code",
   "execution_count": 1,
   "metadata": {},
   "outputs": [
    {
     "name": "stdout",
     "output_type": "stream",
     "text": [
      "Enter a string  :PyThon assignment\n",
      "PYTHON ASSIGNMENT\n"
     ]
    }
   ],
   "source": [
    "def upchar(string):\n",
    "    count=0\n",
    "    for i in string[:4]:\n",
    "        if i.upper()==i:\n",
    "            count=count+1\n",
    "            \n",
    "    if(count >= 2):\n",
    "        print(string.upper())\n",
    "    else:\n",
    "        print(string)\n",
    "\n",
    "string=input(\"Enter a string  :\")\n",
    "upchar(string)"
   ]
  },
  {
   "cell_type": "code",
   "execution_count": 2,
   "metadata": {},
   "outputs": [
    {
     "name": "stdout",
     "output_type": "stream",
     "text": [
      "Enter a string  :pythOn Assignment\n",
      "pythOn Assignment\n"
     ]
    }
   ],
   "source": [
    "def upchar(string):\n",
    "    count=0\n",
    "    for i in string[:4]:\n",
    "        if i.upper()==i:\n",
    "            count=count+1\n",
    "            \n",
    "    if(count >= 2):\n",
    "        print(string.upper())\n",
    "    else:\n",
    "        print(string)\n",
    "\n",
    "string=input(\"Enter a string  :\")\n",
    "upchar(string)"
   ]
  },
  {
   "cell_type": "code",
   "execution_count": 1,
   "metadata": {
    "scrolled": true
   },
   "outputs": [
    {
     "name": "stdout",
     "output_type": "stream",
     "text": [
      "Enter a string/sentence  :I am Mohammed ALFEED\n",
      "I\n",
      "a\n",
      "o\n",
      "a\n",
      "e\n",
      "A\n",
      "E\n",
      "E\n",
      "count of vowels in given string/sentence is : 8\n"
     ]
    }
   ],
   "source": [
    "count=0\n",
    "string=input(\"Enter a string/sentence  :\")\n",
    "for i in string:\n",
    "    if (i=='A' or i=='a' or i=='E' or i=='e' or i=='I' or i=='i' or i=='O' or i=='o' or i=='U' or i=='u'):\n",
    "       count=count+1\n",
    "       print(i)\n",
    "print(\"count of vowels in given string/sentence is :\",count)"
   ]
  },
  {
   "cell_type": "code",
   "execution_count": 3,
   "metadata": {},
   "outputs": [
    {
     "name": "stdout",
     "output_type": "stream",
     "text": [
      "The given list is Empty\n"
     ]
    }
   ],
   "source": [
    "def lst(li):\n",
    "    if(len(li)==0):\n",
    "        print(\"The given list is Empty\")\n",
    "    else:\n",
    "        print(\"The given list is Not Empty\") \n",
    "li=[]\n",
    "lst(li)"
   ]
  },
  {
   "cell_type": "code",
   "execution_count": 4,
   "metadata": {},
   "outputs": [
    {
     "name": "stdout",
     "output_type": "stream",
     "text": [
      "The given list is Not Empty\n"
     ]
    }
   ],
   "source": [
    "def lst(li):\n",
    "    if(len(li)==0):\n",
    "        print(\"The given list is Empty\")\n",
    "    else:\n",
    "        print(\"The given list is Not Empty\") \n",
    "li=[\"A\"]\n",
    "lst(li)"
   ]
  },
  {
   "cell_type": "code",
   "execution_count": 5,
   "metadata": {},
   "outputs": [
    {
     "name": "stdout",
     "output_type": "stream",
     "text": [
      "['a', 'b', 'c', 'd', 'e']\n"
     ]
    }
   ],
   "source": [
    "lst=[\"a\",\"b\",\"c\",\"a\",\"d\",\"b\",\"c\",\"e\"]\n",
    "lst2=[]\n",
    "for i in lst:\n",
    "    if(i not in lst2):\n",
    "        lst2.append(i)\n",
    "print(lst2)"
   ]
  },
  {
   "cell_type": "code",
   "execution_count": 8,
   "metadata": {},
   "outputs": [
    {
     "name": "stdout",
     "output_type": "stream",
     "text": [
      "True\n"
     ]
    }
   ],
   "source": [
    "def comp(lst,lst2):\n",
    "    flag=0\n",
    "    for i in range(len(lst)):\n",
    "        for j in range(0,i):\n",
    "            if(lst[j]==lst2[i]):\n",
    "                flag=1\n",
    "    if(flag==0):\n",
    "        print(\"False\")\n",
    "    else:\n",
    "        print(\"True\")\n",
    "\n",
    "lst=['a',\"b\",\"c\",\"a\",\"d\",\"b\",\"c\",\"e\"]\n",
    "lst2=['f','g','h','a','j','k','l','m']\n",
    "comp(lst,lst2)"
   ]
  },
  {
   "cell_type": "code",
   "execution_count": 9,
   "metadata": {},
   "outputs": [
    {
     "name": "stdout",
     "output_type": "stream",
     "text": [
      "False\n"
     ]
    }
   ],
   "source": [
    "def comp(lst,lst2):\n",
    "    flag=0\n",
    "    for i in range(len(lst)):\n",
    "        for j in range(0,i):\n",
    "            if(lst[j]==lst2[i]):\n",
    "                flag=1\n",
    "    if(flag==0):\n",
    "        print(\"False\")\n",
    "    else:\n",
    "        print(\"True\")\n",
    "\n",
    "lst=['a',\"b\",\"c\",\"a\",\"d\",\"b\",\"c\",\"e\"]\n",
    "lst2=['f','g','h','i','j','k','l','m']\n",
    "comp(lst,lst2)"
   ]
  },
  {
   "cell_type": "code",
   "execution_count": 10,
   "metadata": {},
   "outputs": [
    {
     "name": "stdout",
     "output_type": "stream",
     "text": [
      "[1, 2, 3, 4, 7]\n"
     ]
    }
   ],
   "source": [
    "lst1=[1,2,3,4,5,6]\n",
    "lst2=[5,6,7]\n",
    "lst3= [i for i in lst1 + lst2 if i not in lst1 or i not in lst2] \n",
    "print(lst3)"
   ]
  },
  {
   "cell_type": "code",
   "execution_count": 11,
   "metadata": {},
   "outputs": [
    {
     "name": "stdout",
     "output_type": "stream",
     "text": [
      "8\n"
     ]
    }
   ],
   "source": [
    "lst=[8,47,30,90,6,19,53,36]\n",
    "lst.sort()\n",
    "print(lst[1])"
   ]
  },
  {
   "cell_type": "code",
   "execution_count": 12,
   "metadata": {},
   "outputs": [
    {
     "name": "stdout",
     "output_type": "stream",
     "text": [
      "53\n"
     ]
    }
   ],
   "source": [
    "lst=[8,47,30,90,6,19,53,36]\n",
    "lst.sort()\n",
    "print(lst[-2])\n"
   ]
  },
  {
   "cell_type": "code",
   "execution_count": 13,
   "metadata": {},
   "outputs": [
    {
     "name": "stdout",
     "output_type": "stream",
     "text": [
      "{1: 3, 2: 3, 3: 1, 4: 2, 5: 1, 6: 2, 7: 1, 8: 1}\n"
     ]
    }
   ],
   "source": [
    "lst=[1,2,3,1,2,4,1,5,2,4,6,7,6,8,]\n",
    "freq={}\n",
    "for i in lst:\n",
    "    freq[i]=lst.count(i)\n",
    "print(freq)"
   ]
  },
  {
   "cell_type": "code",
   "execution_count": 14,
   "metadata": {},
   "outputs": [
    {
     "name": "stdout",
     "output_type": "stream",
     "text": [
      "113350"
     ]
    }
   ],
   "source": [
    "lst=[11,33,50]\n",
    "for i in lst:\n",
    "    print(i,end=\"\")"
   ]
  },
  {
   "cell_type": "code",
   "execution_count": 1,
   "metadata": {},
   "outputs": [
    {
     "name": "stdout",
     "output_type": "stream",
     "text": [
      "['red', 'orange']\n",
      "['black', 'yellow']\n"
     ]
    }
   ],
   "source": [
    "lst= [\"red\", \"orange\", \"green\", \"blue\", \"white\"]\n",
    "lst2= [\"black\", \"yellow\", \"green\", \"blue\"]\n",
    "lst3=[]\n",
    "lst4=[]\n",
    "for i in range(len(lst)-1):\n",
    "       if(lst[i]!=lst2[i]):\n",
    "           lst3.append(lst[i]) \n",
    "       if(lst[i]!=lst2[i]):\n",
    "           lst4.append(lst2[i])\n",
    "print(lst3)\n",
    "print(lst4)"
   ]
  },
  {
   "cell_type": "code",
   "execution_count": 2,
   "metadata": {},
   "outputs": [
    {
     "name": "stdout",
     "output_type": "stream",
     "text": [
      "True\n"
     ]
    }
   ],
   "source": [
    "flag=0\n",
    "lst=[{},{},{},{}]\n",
    "for i in lst:\n",
    "    l=len(i)\n",
    "    if(l!=0):\n",
    "        flag=1\n",
    "if(flag==0):\n",
    "      print(\"True\")\n",
    "else:\n",
    "    print(\"False\")      "
   ]
  },
  {
   "cell_type": "code",
   "execution_count": 3,
   "metadata": {},
   "outputs": [
    {
     "name": "stdout",
     "output_type": "stream",
     "text": [
      "False\n"
     ]
    }
   ],
   "source": [
    "flag=0\n",
    "lst=[{},{},{1,2},{}]\n",
    "for i in lst:\n",
    "    l=len(i)\n",
    "    if(l!=0):\n",
    "        flag=1\n",
    "if(flag==0):\n",
    "      print(\"True\")\n",
    "else:\n",
    "    print(\"False\")      "
   ]
  },
  {
   "cell_type": "code",
   "execution_count": 4,
   "metadata": {},
   "outputs": [
    {
     "name": "stdout",
     "output_type": "stream",
     "text": [
      "Enter the n value  :6\n",
      "{1: 1, 2: 4, 3: 9, 4: 16, 5: 25, 6: 36}\n"
     ]
    }
   ],
   "source": [
    "n=int(input(\"Enter the n value  :\"))\n",
    "sqrdic={}\n",
    "for i in range(1,n+1):\n",
    "    sqrdic[i]=i*i\n",
    "print(sqrdic)"
   ]
  },
  {
   "cell_type": "code",
   "execution_count": 5,
   "metadata": {},
   "outputs": [
    {
     "name": "stdout",
     "output_type": "stream",
     "text": [
      "{'a': 400, 'b': 400, 'c': 300, 'd': 400}\n"
     ]
    }
   ],
   "source": [
    "dic1 = {'a': 100, 'b': 200, 'c':300}\n",
    "dic2 = {'a': 300, 'b': 200, 'd':400}\n",
    "dic3 = dict(dic1)\n",
    "dic3=dict(dic1)\n",
    "dic3.update(dic2)\n",
    "for i,j in dic1.items():\n",
    "    for p,q in dic2.items():\n",
    "        if(i==p):\n",
    "            dic3[i]=(j+q)\n",
    "print(dic3)"
   ]
  },
  {
   "cell_type": "code",
   "execution_count": 6,
   "metadata": {},
   "outputs": [
    {
     "name": "stdout",
     "output_type": "stream",
     "text": [
      "unique Values:  {'S007', 'S005', 'S002', 'S001', 'S009'}\n"
     ]
    }
   ],
   "source": [
    "lst = [{\"V\":\"S001\"}, {\"V\": \"S002\"}, {\"VI\": \"S001\"}, {\"VI\": \"S005\"}, {\"VII\":\"S005\"}, {\"V\":\"S009\"},{\"VIII\":\"S007\"}]\n",
    "unique = set( val for dic in lst for val in dic.values())\n",
    "print(\"unique Values: \",unique)"
   ]
  },
  {
   "cell_type": "code",
   "execution_count": 8,
   "metadata": {},
   "outputs": [
    {
     "name": "stdout",
     "output_type": "stream",
     "text": [
      "ac ad bc bd "
     ]
    }
   ],
   "source": [
    "lst={'1':['a','b'], '2':['c','d']}\n",
    "lst2 = lst.get('1')\n",
    "lst3 = lst.get('2')\n",
    "for i in range(2):\n",
    "   for j in range(2):          \n",
    "      print(lst2[i]+lst3[j],end=' ')"
   ]
  },
  {
   "cell_type": "code",
   "execution_count": 9,
   "metadata": {},
   "outputs": [
    {
     "name": "stdout",
     "output_type": "stream",
     "text": [
      "{'W': 1, '3': 1, 'r': 2, 'e': 2, 's': 2, 'o': 1, 'u': 1, 'c': 1}\n"
     ]
    }
   ],
   "source": [
    "dic={}\n",
    "string=\"W3resources\"\n",
    "for i in string:\n",
    "    dic[i]=string.count(i)\n",
    "print(dic)"
   ]
  },
  {
   "cell_type": "code",
   "execution_count": 10,
   "metadata": {},
   "outputs": [
    {
     "name": "stdout",
     "output_type": "stream",
     "text": [
      "2\n"
     ]
    }
   ],
   "source": [
    "count=0\n",
    "lst = [{'id': 1, 'success': True, 'name': 'Lary'}, {'id': 2, 'success': False, 'name': 'Rabi'}, {'id': 3, 'success': True, 'name': 'Alex'}]\n",
    "for key in lst:\n",
    "    val=key.get('success')\n",
    "    if(val==True):\n",
    "        count+=1\n",
    "print(count)"
   ]
  },
  {
   "cell_type": "code",
   "execution_count": 11,
   "metadata": {},
   "outputs": [
    {
     "name": "stdout",
     "output_type": "stream",
     "text": [
      "{0: {9: {8: {7: {6: {}}}}}}\n"
     ]
    }
   ],
   "source": [
    "lst = [0,9,8,7,6]\n",
    "dic = dic2 = {}\n",
    "for name in lst:\n",
    "    dic2[name] = {}\n",
    "    dic2 = dic2[name]\n",
    "print(dic)"
   ]
  },
  {
   "cell_type": "code",
   "execution_count": 12,
   "metadata": {},
   "outputs": [
    {
     "name": "stdout",
     "output_type": "stream",
     "text": [
      "[('Chemistry', 87), ('Physics', 83), ('Math', 81)]\n"
     ]
    }
   ],
   "source": [
    "from collections import Counter\n",
    "dic = Counter({'Math':81, 'Physics':83, 'Chemistry':87})\n",
    "print(dic.most_common())"
   ]
  },
  {
   "cell_type": "code",
   "execution_count": 13,
   "metadata": {},
   "outputs": [
    {
     "name": "stdout",
     "output_type": "stream",
     "text": [
      "key1: 1 is present in both dic1 and dic2\n"
     ]
    }
   ],
   "source": [
    "dic1 = {'key1': 1, 'key2': 3, 'key3': 2}\n",
    "dic2 = {'key1': 1, 'key2': 2}\n",
    "for (key, value) in set(dic1.items()) & set(dic2.items()):\n",
    "    print('%s: %s is present in both dic1 and dic2' % (key, value))"
   ]
  },
  {
   "cell_type": "code",
   "execution_count": 14,
   "metadata": {},
   "outputs": [
    {
     "name": "stdout",
     "output_type": "stream",
     "text": [
      "(1, '@lfeed', 'python', 5.0)\n"
     ]
    }
   ],
   "source": [
    "tup=(1,\"@lfeed\",\"python\",5.0)\n",
    "print(tup)"
   ]
  },
  {
   "cell_type": "code",
   "execution_count": 15,
   "metadata": {},
   "outputs": [
    {
     "name": "stdout",
     "output_type": "stream",
     "text": [
      "(1, '@lfeed', 'python', 5.0, 'Allu')\n"
     ]
    }
   ],
   "source": [
    "tup=(1,\"@lfeed\",\"python\",5.0)\n",
    "tup=tup+(\"Allu\",)\n",
    "print(tup)"
   ]
  },
  {
   "cell_type": "code",
   "execution_count": 16,
   "metadata": {},
   "outputs": [
    {
     "name": "stdout",
     "output_type": "stream",
     "text": [
      "1@lfeedpython5.0"
     ]
    }
   ],
   "source": [
    "tup=(1,\"@lfeed\",\"python\",5.0)\n",
    "for i in tup:\n",
    "    print(i,end=\"\")"
   ]
  },
  {
   "cell_type": "code",
   "execution_count": 17,
   "metadata": {},
   "outputs": [
    {
     "name": "stdout",
     "output_type": "stream",
     "text": [
      "1\n",
      "python\n"
     ]
    }
   ],
   "source": [
    "tup=(1,\"@lfeed\",1,\"python\",5.0,\"python\")\n",
    "tup1=list(tup)\n",
    "tup2=[]\n",
    "for i in tup1:\n",
    "    if i not in tup2:\n",
    "        tup2.append(i)\n",
    "    else:\n",
    "        print(i)"
   ]
  },
  {
   "cell_type": "code",
   "execution_count": 1,
   "metadata": {},
   "outputs": [
    {
     "name": "stdout",
     "output_type": "stream",
     "text": [
      "4\n"
     ]
    }
   ],
   "source": [
    "tup=(1,\"Alfeed\",True,5.0)\n",
    "print(len(tup))"
   ]
  },
  {
   "cell_type": "code",
   "execution_count": 2,
   "metadata": {},
   "outputs": [
    {
     "name": "stdout",
     "output_type": "stream",
     "text": [
      "{1: 1, 'alfeed': 'alfeed', 5.0: 5.0, 'python': 'python'}\n"
     ]
    }
   ],
   "source": [
    "tup=(1,\"alfeed\",5.0,\"python\")\n",
    "dic={}\n",
    "for i in tup:\n",
    "    dic[i]=i\n",
    "print(dic)"
   ]
  },
  {
   "cell_type": "code",
   "execution_count": 3,
   "metadata": {},
   "outputs": [
    {
     "name": "stdout",
     "output_type": "stream",
     "text": [
      "[(10, 20, 100), (40, 50, 100), (70, 80, 100)]\n"
     ]
    }
   ],
   "source": [
    "lst=[(10, 20, 40), (40, 50, 60), (70, 80, 90)]\n",
    "lst2=[]\n",
    "for i in lst:\n",
    "    lst2.append(i[:-1] + (100,))\n",
    "print(lst2)"
   ]
  },
  {
   "cell_type": "code",
   "execution_count": 4,
   "metadata": {},
   "outputs": [
    {
     "name": "stdout",
     "output_type": "stream",
     "text": [
      "[('item3', '24.5'), ('item2', '15.10'), ('item1', '12.20')]\n"
     ]
    }
   ],
   "source": [
    "lst= [('item1', '12.20'), ('item2', '15.10'), ('item3', '24.5')]\n",
    "lst.sort(reverse=True)\n",
    "print(lst)"
   ]
  },
  {
   "cell_type": "code",
   "execution_count": 5,
   "metadata": {},
   "outputs": [
    {
     "name": "stdout",
     "output_type": "stream",
     "text": [
      "4\n"
     ]
    }
   ],
   "source": [
    "count=0\n",
    "lst= [1,2,4,\"A\",('item1', '12.20'),6,9,('item2', '15.10')]\n",
    "for i in lst:\n",
    "    if(type(i)==tuple):\n",
    "        break\n",
    "    else:\n",
    "        count+=1\n",
    "print(count)"
   ]
  },
  {
   "cell_type": "code",
   "execution_count": 6,
   "metadata": {},
   "outputs": [
    {
     "name": "stdout",
     "output_type": "stream",
     "text": [
      "Number of Even numbers = 4\n",
      "Number of Odd numbers = 5\n"
     ]
    }
   ],
   "source": [
    "n=(1,2,3,4,5,6,7,8,9)\n",
    "count1=0\n",
    "count2=0\n",
    "for i in n:\n",
    "    if(i%2==0):\n",
    "        count1+=1\n",
    "    else:\n",
    "        count2+=1\n",
    "print(\"Number of Even numbers =\",count1)\n",
    "print(\"Number of Odd numbers =\",count2)"
   ]
  },
  {
   "cell_type": "code",
   "execution_count": 7,
   "metadata": {},
   "outputs": [
    {
     "name": "stdout",
     "output_type": "stream",
     "text": [
      "0 1 2 4 5 "
     ]
    }
   ],
   "source": [
    "for i in range(6):\n",
    "    if(i==3):\n",
    "        continue\n",
    "    else:\n",
    "        print(i,end=\" \")"
   ]
  },
  {
   "cell_type": "code",
   "execution_count": 8,
   "metadata": {},
   "outputs": [
    {
     "name": "stdout",
     "output_type": "stream",
     "text": [
      "1 1 2 3 5 8 13 21 34 "
     ]
    }
   ],
   "source": [
    "a=0\n",
    "b=1\n",
    "while b<50:\n",
    "    print(b,end=\" \")\n",
    "    a,b = b,a+b"
   ]
  },
  {
   "cell_type": "code",
   "execution_count": 10,
   "metadata": {},
   "outputs": [
    {
     "name": "stdout",
     "output_type": "stream",
     "text": [
      "[200, 202, 204, 206, 208, 220, 222, 224, 226, 228, 240, 242, 244, 246, 248, 260, 262, 264, 266, 268, 280, 282, 284, 286, 288, 400]\n"
     ]
    }
   ],
   "source": [
    "lst=[]\n",
    "for i in range(100,401):\n",
    "    s=str(i)\n",
    "    if(int(s[0])%2==0 and int(s[1])%2==0 and int(s[2])%2==0):\n",
    "      lst.append(i)\n",
    "print(lst)"
   ]
  },
  {
   "cell_type": "code",
   "execution_count": 11,
   "metadata": {},
   "outputs": [
    {
     "name": "stdout",
     "output_type": "stream",
     "text": [
      "Enter a number  :5\n",
      "5 x 1  = 5\n",
      "5 x 2  = 10\n",
      "5 x 3  = 15\n",
      "5 x 4  = 20\n",
      "5 x 5  = 25\n",
      "5 x 6  = 30\n",
      "5 x 7  = 35\n",
      "5 x 8  = 40\n",
      "5 x 9  = 45\n",
      "5 x 10  = 50\n"
     ]
    }
   ],
   "source": [
    "n=int(input(\"Enter a number  :\"))\n",
    "for i in range(1,11):\n",
    "    print(n,\"x\",i,\" =\",n*i)"
   ]
  },
  {
   "cell_type": "code",
   "execution_count": 12,
   "metadata": {},
   "outputs": [
    {
     "name": "stdout",
     "output_type": "stream",
     "text": [
      "enter a,b,c values separeted by space :6 9 4\n",
      "9 is greater number\n"
     ]
    }
   ],
   "source": [
    "def maxx(a,b,c):\n",
    "    if(a>b):\n",
    "        if(a>c):\n",
    "            print(a,\"is greater number\")\n",
    "        else:\n",
    "            print(c,\"is the greater number\")\n",
    "    else:\n",
    "        if(b>c):\n",
    "            print(b,\"is greater number\")\n",
    "        else:\n",
    "            print(c,\"is greater number\")\n",
    "          \n",
    "a,b,c=input(\"enter a,b,c values separeted by space :\").split(\" \")\n",
    "a=int(a)\n",
    "b=int(b)\n",
    "c=int(c)            \n",
    "maxx(a,b,c)"
   ]
  },
  {
   "cell_type": "code",
   "execution_count": 13,
   "metadata": {},
   "outputs": [
    {
     "name": "stdout",
     "output_type": "stream",
     "text": [
      "Sum of all numbers in list is = 45\n"
     ]
    }
   ],
   "source": [
    "def summ(lst):\n",
    "    s=0\n",
    "    for i in lst:\n",
    "        s=s+i\n",
    "    print(\"Sum of all numbers in list is =\",s)\n",
    "    \n",
    "lst=[1,2,3,4,5,6,7,8,9]\n",
    "summ(lst) "
   ]
  },
  {
   "cell_type": "code",
   "execution_count": 14,
   "metadata": {},
   "outputs": [
    {
     "name": "stdout",
     "output_type": "stream",
     "text": [
      "multiplication of all numbers in list is = 362880\n"
     ]
    }
   ],
   "source": [
    "def mul(lst):\n",
    "    s=1\n",
    "    for i in lst:\n",
    "        s=s*i\n",
    "    print(\"multiplication of all numbers in list is =\",s)\n",
    "    \n",
    "lst=[1,2,3,4,5,6,7,8,9]\n",
    "mul(lst)"
   ]
  },
  {
   "cell_type": "code",
   "execution_count": 16,
   "metadata": {},
   "outputs": [
    {
     "name": "stdout",
     "output_type": "stream",
     "text": [
      "Enter a string :MohammeD AlfeeD\n",
      "upper case letter count = 4\n",
      "lower case letter count = 10\n"
     ]
    }
   ],
   "source": [
    "def check(string):\n",
    "     count1=0\n",
    "     count2=0\n",
    "     for i in string:\n",
    "         if(i==' '):\n",
    "             continue\n",
    "         elif(i.upper()==i):\n",
    "             count1+=1\n",
    "         else:\n",
    "             count2+=1\n",
    "     print(\"upper case letter count =\",count1)\n",
    "     print(\"lower case letter count =\",count2)\n",
    "         \n",
    "string=input(\"Enter a string :\")     \n",
    "check(string)"
   ]
  },
  {
   "cell_type": "code",
   "execution_count": 17,
   "metadata": {},
   "outputs": [
    {
     "name": "stdout",
     "output_type": "stream",
     "text": [
      "22 34 96 88 "
     ]
    }
   ],
   "source": [
    "def evenlist(lst):\n",
    "    for i in lst:\n",
    "        if(i%2==0):\n",
    "            print(i,end=\" \")\n",
    "\n",
    "\n",
    "lst=[11,22,34,47,57,96,79,88,95]\n",
    "evenlist(lst)"
   ]
  }
 ],
 "metadata": {
  "kernelspec": {
   "display_name": "Python 3",
   "language": "python",
   "name": "python3"
  },
  "language_info": {
   "codemirror_mode": {
    "name": "ipython",
    "version": 3
   },
   "file_extension": ".py",
   "mimetype": "text/x-python",
   "name": "python",
   "nbconvert_exporter": "python",
   "pygments_lexer": "ipython3",
   "version": "3.7.0"
  }
 },
 "nbformat": 4,
 "nbformat_minor": 2
}
